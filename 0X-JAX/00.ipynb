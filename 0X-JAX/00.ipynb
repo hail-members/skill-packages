{
 "cells": [
  {
   "cell_type": "code",
   "execution_count": 1,
   "id": "ebc25661",
   "metadata": {},
   "outputs": [
    {
     "name": "stdout",
     "output_type": "stream",
     "text": [
      "Requirement already satisfied: numpy==1.26 in /Users/dongjaekim/Documents/skill-packages/.conda/lib/python3.11/site-packages (1.26.0)\n",
      "Requirement already satisfied: jax in /Users/dongjaekim/Documents/skill-packages/.conda/lib/python3.11/site-packages (0.6.2)\n",
      "Requirement already satisfied: jaxlib in /Users/dongjaekim/Documents/skill-packages/.conda/lib/python3.11/site-packages (0.6.2)\n",
      "Requirement already satisfied: flax in /Users/dongjaekim/Documents/skill-packages/.conda/lib/python3.11/site-packages (0.10.7)\n",
      "Requirement already satisfied: ml_dtypes>=0.5.0 in /Users/dongjaekim/Documents/skill-packages/.conda/lib/python3.11/site-packages (from jax) (0.5.1)\n",
      "Requirement already satisfied: numpy>=1.26 in /Users/dongjaekim/Documents/skill-packages/.conda/lib/python3.11/site-packages (from jax) (1.26.0)\n",
      "Requirement already satisfied: opt_einsum in /Users/dongjaekim/Documents/skill-packages/.conda/lib/python3.11/site-packages (from jax) (3.4.0)\n",
      "Requirement already satisfied: scipy>=1.12 in /Users/dongjaekim/Documents/skill-packages/.conda/lib/python3.11/site-packages (from jax) (1.16.0)\n",
      "Requirement already satisfied: msgpack in /Users/dongjaekim/Documents/skill-packages/.conda/lib/python3.11/site-packages (from flax) (1.1.1)\n",
      "Requirement already satisfied: optax in /Users/dongjaekim/Documents/skill-packages/.conda/lib/python3.11/site-packages (from flax) (0.2.5)\n",
      "Requirement already satisfied: orbax-checkpoint in /Users/dongjaekim/Documents/skill-packages/.conda/lib/python3.11/site-packages (from flax) (0.11.19)\n",
      "Requirement already satisfied: tensorstore in /Users/dongjaekim/Documents/skill-packages/.conda/lib/python3.11/site-packages (from flax) (0.1.76)\n",
      "Requirement already satisfied: rich>=11.1 in /Users/dongjaekim/Documents/skill-packages/.conda/lib/python3.11/site-packages (from flax) (14.0.0)\n",
      "Requirement already satisfied: typing_extensions>=4.2 in /Users/dongjaekim/Documents/skill-packages/.conda/lib/python3.11/site-packages (from flax) (4.14.1)\n",
      "Requirement already satisfied: PyYAML>=5.4.1 in /Users/dongjaekim/Documents/skill-packages/.conda/lib/python3.11/site-packages (from flax) (6.0.2)\n",
      "Requirement already satisfied: treescope>=0.1.7 in /Users/dongjaekim/Documents/skill-packages/.conda/lib/python3.11/site-packages (from flax) (0.1.9)\n",
      "Requirement already satisfied: markdown-it-py>=2.2.0 in /Users/dongjaekim/Documents/skill-packages/.conda/lib/python3.11/site-packages (from rich>=11.1->flax) (3.0.0)\n",
      "Requirement already satisfied: pygments<3.0.0,>=2.13.0 in /Users/dongjaekim/Documents/skill-packages/.conda/lib/python3.11/site-packages (from rich>=11.1->flax) (2.19.2)\n",
      "Requirement already satisfied: mdurl~=0.1 in /Users/dongjaekim/Documents/skill-packages/.conda/lib/python3.11/site-packages (from markdown-it-py>=2.2.0->rich>=11.1->flax) (0.1.2)\n",
      "Requirement already satisfied: absl-py>=0.7.1 in /Users/dongjaekim/Documents/skill-packages/.conda/lib/python3.11/site-packages (from optax->flax) (2.3.1)\n",
      "Requirement already satisfied: chex>=0.1.87 in /Users/dongjaekim/Documents/skill-packages/.conda/lib/python3.11/site-packages (from optax->flax) (0.1.89)\n",
      "Requirement already satisfied: toolz>=0.9.0 in /Users/dongjaekim/Documents/skill-packages/.conda/lib/python3.11/site-packages (from chex>=0.1.87->optax->flax) (1.0.0)\n",
      "Requirement already satisfied: etils[epath,epy] in /Users/dongjaekim/Documents/skill-packages/.conda/lib/python3.11/site-packages (from orbax-checkpoint->flax) (1.12.2)\n",
      "Requirement already satisfied: nest_asyncio in /Users/dongjaekim/Documents/skill-packages/.conda/lib/python3.11/site-packages (from orbax-checkpoint->flax) (1.6.0)\n",
      "Requirement already satisfied: protobuf in /Users/dongjaekim/Documents/skill-packages/.conda/lib/python3.11/site-packages (from orbax-checkpoint->flax) (6.31.1)\n",
      "Requirement already satisfied: humanize in /Users/dongjaekim/Documents/skill-packages/.conda/lib/python3.11/site-packages (from orbax-checkpoint->flax) (4.12.3)\n",
      "Requirement already satisfied: simplejson>=3.16.0 in /Users/dongjaekim/Documents/skill-packages/.conda/lib/python3.11/site-packages (from orbax-checkpoint->flax) (3.20.1)\n",
      "Requirement already satisfied: fsspec in /Users/dongjaekim/Documents/skill-packages/.conda/lib/python3.11/site-packages (from etils[epath,epy]->orbax-checkpoint->flax) (2025.5.1)\n",
      "Requirement already satisfied: importlib_resources in /Users/dongjaekim/Documents/skill-packages/.conda/lib/python3.11/site-packages (from etils[epath,epy]->orbax-checkpoint->flax) (6.5.2)\n",
      "Requirement already satisfied: zipp in /Users/dongjaekim/Documents/skill-packages/.conda/lib/python3.11/site-packages (from etils[epath,epy]->orbax-checkpoint->flax) (3.23.0)\n"
     ]
    }
   ],
   "source": [
    "!pip install numpy==1.26\n",
    "!pip install jax jaxlib flax"
   ]
  },
  {
   "cell_type": "code",
   "execution_count": 2,
   "id": "79645e66",
   "metadata": {},
   "outputs": [],
   "source": [
    "import jax\n",
    "import jax.numpy as jnp\n",
    "import numpy as np\n",
    "from IPython.display import display"
   ]
  },
  {
   "cell_type": "code",
   "execution_count": 3,
   "id": "1bd26629",
   "metadata": {},
   "outputs": [
    {
     "data": {
      "text/plain": [
       "array([ 6.,  8., 10., 12.])"
      ]
     },
     "metadata": {},
     "output_type": "display_data"
    }
   ],
   "source": [
    "x = np.array([1.0, 2.0, 3.0, 4.0])\n",
    "y = np.array([5.0, 6.0, 7.0, 8.0])\n",
    "\n",
    "z = x + y\n",
    "\n",
    "display(z)"
   ]
  },
  {
   "cell_type": "code",
   "execution_count": 4,
   "id": "a4fa8757",
   "metadata": {},
   "outputs": [
    {
     "data": {
      "text/plain": [
       "Array([ 6.,  8., 10., 12.], dtype=float32)"
      ]
     },
     "metadata": {},
     "output_type": "display_data"
    }
   ],
   "source": [
    "x = jnp.array([1.0, 2.0, 3.0, 4.0])\n",
    "y = jnp.array([5.0, 6.0, 7.0, 8.0])\n",
    "\n",
    "z = x + y\n",
    "\n",
    "display(z)"
   ]
  },
  {
   "cell_type": "code",
   "execution_count": null,
   "id": "4f1c79c2",
   "metadata": {},
   "outputs": [],
   "source": []
  }
 ],
 "metadata": {
  "kernelspec": {
   "display_name": "Python 3",
   "language": "python",
   "name": "python3"
  },
  "language_info": {
   "codemirror_mode": {
    "name": "ipython",
    "version": 3
   },
   "file_extension": ".py",
   "mimetype": "text/x-python",
   "name": "python",
   "nbconvert_exporter": "python",
   "pygments_lexer": "ipython3",
   "version": "3.11.13"
  }
 },
 "nbformat": 4,
 "nbformat_minor": 5
}
